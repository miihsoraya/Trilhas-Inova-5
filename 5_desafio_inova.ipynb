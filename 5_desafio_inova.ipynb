{
  "cells": [
    {
      "cell_type": "markdown",
      "metadata": {
        "id": "view-in-github",
        "colab_type": "text"
      },
      "source": [
        "<a href=\"https://colab.research.google.com/github/miihsoraya/Trilhas-Inova-5/blob/main/5_desafio_inova.ipynb\" target=\"_parent\"><img src=\"https://colab.research.google.com/assets/colab-badge.svg\" alt=\"Open In Colab\"/></a>"
      ]
    },
    {
      "cell_type": "code",
      "execution_count": 38,
      "id": "d5b28375",
      "metadata": {
        "id": "d5b28375"
      },
      "outputs": [],
      "source": [
        "#1. Substituir o cabeçalho por palavras em letras maiúsculas;\n",
        "#2. Corrigir os dados faltantes e preencher as lacunas com valores adequados;\n",
        "#3. Eliminar os outliers, atribuindo no lugar deles os valores adequados;\n",
        "#4. Eliminar os duplicados, para garantir a unicidade das informações;\n",
        "#5. Substituir os NANs por valores adequados; ZEROS E INDEFINIDOS\n",
        "#6. Corrigir os dados categóricos, por exemplo, \"Mas\" para \"Masculino\" e \"Fem\" para \"Feminino\" para adequá-los ao padrão dos demais;\n",
        "#7. Vá além das dicas fornecidas, para melhorar a sua habilidade em limpeza e tratamento de dados."
      ]
    },
    {
      "cell_type": "code",
      "execution_count": 39,
      "id": "c179b67a",
      "metadata": {
        "id": "c179b67a"
      },
      "outputs": [],
      "source": [
        "import pandas as pd\n",
        "import numpy as np\n",
        "import json #arquivo\n",
        "import matplotlib.pyplot as plt\n",
        "import seaborn as sns"
      ]
    },
    {
      "cell_type": "code",
      "execution_count": 40,
      "id": "bb8f21ff",
      "metadata": {
        "colab": {
          "base_uri": "https://localhost:8080/"
        },
        "id": "bb8f21ff",
        "outputId": "d078f592-4866-4158-91d6-11657020b486"
      },
      "outputs": [
        {
          "output_type": "stream",
          "name": "stdout",
          "text": [
            "       Id  Pontos Estado     Genero  Idade  Bens  Saldo na Conta  Produto  Possui cartao  Ativo     Salario  Saiu\n",
            "0       1     619     BA   Feminino     42     2               0        1              1      1  10134888.0     1\n",
            "1       2     608     CE   Feminino     41     1         8380786        1              0      1  11254258.0     0\n",
            "2       3     502     BA   Feminino     42     8         1596608        3              1      0  11393157.0     1\n",
            "3       4     699     BA   Feminino     39     1               0        2              0      0   9382663.0     0\n",
            "4       5     850     CE   Feminino     43     2        12551082        1              1      1    790841.0     0\n",
            "..    ...     ...    ...        ...    ...   ...             ...      ...            ...    ...         ...   ...\n",
            "994   996     838     CE  Masculino     43     9        12310588        2              1      0  14576583.0     0\n",
            "995   997     610     CE  Masculino     29     9               0        3              0      1   8391224.0     0\n",
            "996   998     811     CE  Masculino     44     3               0        2              0      1   7843973.0     0\n",
            "997   999     587     CE  Masculino     62     7        12128627        1              0      1    677692.0     0\n",
            "998  1000     811     CE   Feminino     28     4        16773882        2              1      1    990342.0     0\n",
            "\n",
            "[999 rows x 12 columns]\n"
          ]
        }
      ],
      "source": [
        "arquivo = 'Planilha do desafio 5 - Ciência de dados.xlsx'\n",
        "\n",
        "pd.set_option('display.max_columns',15)  # Exibir todas as colunas\n",
        "pd.set_option('display.width', 1000)\n",
        "banco_nordeste = pd.read_excel(arquivo)\n",
        "\n",
        "print(banco_nordeste)"
      ]
    },
    {
      "cell_type": "code",
      "execution_count": 41,
      "id": "17cea3a5",
      "metadata": {
        "id": "17cea3a5"
      },
      "outputs": [],
      "source": [
        "banco_nordeste.columns = [i.upper() for i in banco_nordeste.columns] #maiusculas\n",
        "banco_nordeste.drop_duplicates(inplace=True) #duplicadas\n",
        "banco_nordeste['GENERO'].replace({'Mas': 'Masculino', 'M': 'Masculino', 'Fem': 'Feminino', 'F': 'Feminino'}, inplace=True) #dados categóricos\n",
        "#poderia ser .rename(index = {Mas: 'Masculino'})"
      ]
    },
    {
      "cell_type": "code",
      "execution_count": 42,
      "id": "214a09ae",
      "metadata": {
        "id": "214a09ae"
      },
      "outputs": [],
      "source": [
        "nan = banco_nordeste[banco_nordeste.isna().any(axis=1)] #checar valores NaN | 1 = columns\n",
        "#print(nan)\n",
        "\n",
        "banco_nordeste['SALARIO'] = banco_nordeste['SALARIO'].fillna(0) #alterar valor NaN de SALARIO\n",
        "banco_nordeste['GENERO'] = banco_nordeste['GENERO'].fillna(\"Indefinido\") #alterar valor NaN de GENERO para INDEFINIDO\n"
      ]
    },
    {
      "cell_type": "code",
      "execution_count": 43,
      "id": "49c98da7",
      "metadata": {
        "id": "49c98da7"
      },
      "outputs": [],
      "source": [
        "#alterando dados binários\n",
        "banco_nordeste[['POSSUI CARTAO', 'ATIVO', 'SAIU']] = banco_nordeste[['POSSUI CARTAO', 'ATIVO', 'SAIU']].replace({1: \"Sim\", 0: \"Não\"})\n",
        "\n"
      ]
    },
    {
      "cell_type": "code",
      "execution_count": 44,
      "id": "980d33d3",
      "metadata": {
        "scrolled": true,
        "id": "980d33d3"
      },
      "outputs": [],
      "source": [
        "with open('estados.json', 'r', encoding='utf-8') as file:\n",
        "    estado = json.load(file)\n",
        "\n",
        "banco_nordeste['ESTADO'].replace(estado, inplace=True) #Substituir as siglas dos Estados"
      ]
    },
    {
      "cell_type": "code",
      "execution_count": 44,
      "id": "293ac630",
      "metadata": {
        "scrolled": true,
        "id": "293ac630"
      },
      "outputs": [],
      "source": []
    },
    {
      "cell_type": "code",
      "execution_count": 45,
      "id": "b523fdef",
      "metadata": {
        "id": "b523fdef"
      },
      "outputs": [],
      "source": [
        "# Criando uma coluna Descrição\n",
        "banco_nordeste['DESCRIÇÃO'] = banco_nordeste.apply(lambda row: f\"Possui {row['PONTOS']} pontos, {row['BENS']} bens e mora em {row['ESTADO']}. Adquiriu {row['PRODUTO']} produtos. Usuário {'Ativo' if row['ATIVO'] == 'Sim' else 'Não está ativo'}.\", axis=1)\n"
      ]
    },
    {
      "cell_type": "code",
      "execution_count": 45,
      "id": "9cda85a4",
      "metadata": {
        "id": "9cda85a4"
      },
      "outputs": [],
      "source": []
    },
    {
      "cell_type": "code",
      "execution_count": 46,
      "id": "c943111f",
      "metadata": {
        "colab": {
          "base_uri": "https://localhost:8080/"
        },
        "id": "c943111f",
        "outputId": "481ae096-e54d-4bdd-8a8f-987105346358"
      },
      "outputs": [
        {
          "output_type": "stream",
          "name": "stdout",
          "text": [
            "   ID  PONTOS ESTADO    GENERO  IDADE  BENS  SALDO NA CONTA  PRODUTO POSSUI CARTAO ATIVO     SALARIO SAIU                                          DESCRIÇÃO\n",
            "0   1     619  Bahia  Feminino     42     2               0        1           Sim   Sim  10134888.0  Sim  Possui 619 pontos, 2 bens e mora em Bahia. Adq...\n",
            "1   2     608  Ceará  Feminino     41     1         8380786        1           Não   Sim  11254258.0  Não  Possui 608 pontos, 1 bens e mora em Ceará. Adq...\n",
            "2   3     502  Bahia  Feminino     42     8         1596608        3           Sim   Não  11393157.0  Sim  Possui 502 pontos, 8 bens e mora em Bahia. Adq...\n",
            "3   4     699  Bahia  Feminino     39     1               0        2           Não   Não   9382663.0  Não  Possui 699 pontos, 1 bens e mora em Bahia. Adq...\n",
            "4   5     850  Ceará  Feminino     43     2        12551082        1           Sim   Sim    790841.0  Não  Possui 850 pontos, 2 bens e mora em Ceará. Adq...\n"
          ]
        }
      ],
      "source": [
        "print(banco_nordeste.head())\n"
      ]
    },
    {
      "cell_type": "code",
      "execution_count": 47,
      "id": "8da46e1a",
      "metadata": {
        "colab": {
          "base_uri": "https://localhost:8080/",
          "height": 592
        },
        "id": "8da46e1a",
        "outputId": "233e5312-65b3-49ee-86f2-f268b011f8e2"
      },
      "outputs": [
        {
          "output_type": "display_data",
          "data": {
            "text/plain": [
              "<Figure size 640x480 with 1 Axes>"
            ],
            "image/png": "[encoded data removed]"
          },
          "metadata": {}
        },
        {
          "output_type": "execute_result",
          "data": {
            "text/plain": [
              "GENERO\n",
              "Masculino     527\n",
              "Feminino      463\n",
              "Indefinido      8\n",
              "Name: count, dtype: int64"
            ]
          },
          "metadata": {},
          "execution_count": 47
        }
      ],
      "source": [
        "#### Análise das frequencias qualitativas\n",
        "\n",
        "banco_nordeste['GENERO'].value_counts().plot(kind='bar', color=['blue', 'pink','orange'])\n",
        "\n",
        "plt.show()\n",
        "banco_nordeste['GENERO'].value_counts()"
      ]
    },
    {
      "cell_type": "code",
      "execution_count": 48,
      "id": "09dbeb40",
      "metadata": {
        "id": "09dbeb40"
      },
      "outputs": [],
      "source": [
        "freq = banco_nordeste['GENERO'].value_counts()"
      ]
    },
    {
      "cell_type": "code",
      "execution_count": 49,
      "id": "d8458f52",
      "metadata": {
        "id": "d8458f52"
      },
      "outputs": [],
      "source": [
        "perc = banco_nordeste['GENERO'].value_counts(normalize = True) * 100\n",
        "perc = perc.round(1)"
      ]
    },
    {
      "cell_type": "code",
      "execution_count": 50,
      "id": "cf07c1d8",
      "metadata": {
        "id": "cf07c1d8"
      },
      "outputs": [],
      "source": [
        "#criação de dataframe para dados de Sexo\n",
        "freq_qualitativas = pd.DataFrame({'SEXO':freq.index,'FREQUÊNCIA':freq, 'PORCENTAGEM (%)':perc})"
      ]
    },
    {
      "cell_type": "code",
      "execution_count": 51,
      "id": "d8145919",
      "metadata": {
        "colab": {
          "base_uri": "https://localhost:8080/",
          "height": 175
        },
        "id": "d8145919",
        "outputId": "1b906c06-b167-4f60-8fa1-50d7f36d9295"
      },
      "outputs": [
        {
          "output_type": "execute_result",
          "data": {
            "text/plain": [
              "                  SEXO  FREQUÊNCIA  PORCENTAGEM (%)\n",
              "GENERO                                             \n",
              "Masculino    Masculino         527             52.8\n",
              "Feminino      Feminino         463             46.4\n",
              "Indefinido  Indefinido           8              0.8"
            ],
            "text/html": [
              "\n",
              "  <div id=\"df-bdda7341-a444-4c29-a5b8-64dc065c9e2d\" class=\"colab-df-container\">\n",
              "    <div>\n",
              "<style scoped>\n",
              "    .dataframe tbody tr th:only-of-type {\n",
              "        vertical-align: middle;\n",
              "    }\n",
              "\n",
              "    .dataframe tbody tr th {\n",
              "        vertical-align: top;\n",
              "    }\n",
              "\n",
              "    .dataframe thead th {\n",
              "        text-align: right;\n",
              "    }\n",
              "</style>\n",
              "<table border=\"1\" class=\"dataframe\">\n",
              "  <thead>\n",
              "    <tr style=\"text-align: right;\">\n",
              "      <th></th>\n",
              "      <th>SEXO</th>\n",
              "      <th>FREQUÊNCIA</th>\n",
              "      <th>PORCENTAGEM (%)</th>\n",
              "    </tr>\n",
              "    <tr>\n",
              "      <th>GENERO</th>\n",
              "      <th></th>\n",
              "      <th></th>\n",
              "      <th></th>\n",
              "    </tr>\n",
              "  </thead>\n",
              "  <tbody>\n",
              "    <tr>\n",
              "      <th>Masculino</th>\n",
              "      <td>Masculino</td>\n",
              "      <td>527</td>\n",
              "      <td>52.8</td>\n",
              "    </tr>\n",
              "    <tr>\n",
              "      <th>Feminino</th>\n",
              "      <td>Feminino</td>\n",
              "      <td>463</td>\n",
              "      <td>46.4</td>\n",
              "    </tr>\n",
              "    <tr>\n",
              "      <th>Indefinido</th>\n",
              "      <td>Indefinido</td>\n",
              "      <td>8</td>\n",
              "      <td>0.8</td>\n",
              "    </tr>\n",
              "  </tbody>\n",
              "</table>\n",
              "</div>\n",
              "    <div class=\"colab-df-buttons\">\n",
              "\n",
              "  <div class=\"colab-df-container\">\n",
              "    <button class=\"colab-df-convert\" onclick=\"convertToInteractive('df-bdda7341-a444-4c29-a5b8-64dc065c9e2d')\"\n",
              "            title=\"Convert this dataframe to an interactive table.\"\n",
              "            style=\"display:none;\">\n",
              "\n",
              "  <svg xmlns=\"http://www.w3.org/2000/svg\" height=\"24px\" viewBox=\"0 -960 960 960\">\n",
              "    <path d=\"M120-120v-720h720v720H120Zm60-500h600v-160H180v160Zm220 220h160v-160H400v160Zm0 220h160v-160H400v160ZM180-400h160v-160H180v160Zm440 0h160v-160H620v160ZM180-180h160v-160H180v160Zm440 0h160v-160H620v160Z\"/>\n",
              "  </svg>\n",
              "    </button>\n",
              "\n",
              "  <style>\n",
              "    .colab-df-container {\n",
              "      display:flex;\n",
              "      gap: 12px;\n",
              "    }\n",
              "\n",
              "    .colab-df-convert {\n",
              "      background-color: #E8F0FE;\n",
              "      border: none;\n",
              "      border-radius: 50%;\n",
              "      cursor: pointer;\n",
              "      display: none;\n",
              "      fill: #1967D2;\n",
              "      height: 32px;\n",
              "      padding: 0 0 0 0;\n",
              "      width: 32px;\n",
              "    }\n",
              "\n",
              "    .colab-df-convert:hover {\n",
              "      background-color: #E2EBFA;\n",
              "      box-shadow: 0px 1px 2px rgba(60, 64, 67, 0.3), 0px 1px 3px 1px rgba(60, 64, 67, 0.15);\n",
              "      fill: #174EA6;\n",
              "    }\n",
              "\n",
              "    .colab-df-buttons div {\n",
              "      margin-bottom: 4px;\n",
              "    }\n",
              "\n",
              "    [theme=dark] .colab-df-convert {\n",
              "      background-color: #3B4455;\n",
              "      fill: #D2E3FC;\n",
              "    }\n",
              "\n",
              "    [theme=dark] .colab-df-convert:hover {\n",
              "      background-color: #434B5C;\n",
              "      box-shadow: 0px 1px 3px 1px rgba(0, 0, 0, 0.15);\n",
              "      filter: drop-shadow(0px 1px 2px rgba(0, 0, 0, 0.3));\n",
              "      fill: #FFFFFF;\n",
              "    }\n",
              "  </style>\n",
              "\n",
              "    <script>\n",
              "      const buttonEl =\n",
              "        document.querySelector('#df-bdda7341-a444-4c29-a5b8-64dc065c9e2d button.colab-df-convert');\n",
              "      buttonEl.style.display =\n",
              "        google.colab.kernel.accessAllowed ? 'block' : 'none';\n",
              "\n",
              "      async function convertToInteractive(key) {\n",
              "        const element = document.querySelector('#df-bdda7341-a444-4c29-a5b8-64dc065c9e2d');\n",
              "        const dataTable =\n",
              "          await google.colab.kernel.invokeFunction('convertToInteractive',\n",
              "                                                    [key], {});\n",
              "        if (!dataTable) return;\n",
              "\n",
              "        const docLinkHtml = 'Like what you see? Visit the ' +\n",
              "          '<a target=\"_blank\" href=https://colab.research.google.com/notebooks/data_table.ipynb>data table notebook</a>'\n",
              "          + ' to learn more about interactive tables.';\n",
              "        element.innerHTML = '';\n",
              "        dataTable['output_type'] = 'display_data';\n",
              "        await google.colab.output.renderOutput(dataTable, element);\n",
              "        const docLink = document.createElement('div');\n",
              "        docLink.innerHTML = docLinkHtml;\n",
              "        element.appendChild(docLink);\n",
              "      }\n",
              "    </script>\n",
              "  </div>\n",
              "\n",
              "\n",
              "<div id=\"df-5b5d52fe-8dcf-4ae9-a475-4d99f9a44474\">\n",
              "  <button class=\"colab-df-quickchart\" onclick=\"quickchart('df-5b5d52fe-8dcf-4ae9-a475-4d99f9a44474')\"\n",
              "            title=\"Suggest charts\"\n",
              "            style=\"display:none;\">\n",
              "\n",
              "<svg xmlns=\"http://www.w3.org/2000/svg\" height=\"24px\"viewBox=\"0 0 24 24\"\n",
              "     width=\"24px\">\n",
              "    <g>\n",
              "        <path d=\"M19 3H5c-1.1 0-2 .9-2 2v14c0 1.1.9 2 2 2h14c1.1 0 2-.9 2-2V5c0-1.1-.9-2-2-2zM9 17H7v-7h2v7zm4 0h-2V7h2v10zm4 0h-2v-4h2v4z\"/>\n",
              "    </g>\n",
              "</svg>\n",
              "  </button>\n",
              "\n",
              "<style>\n",
              "  .colab-df-quickchart {\n",
              "      --bg-color: #E8F0FE;\n",
              "      --fill-color: #1967D2;\n",
              "      --hover-bg-color: #E2EBFA;\n",
              "      --hover-fill-color: #174EA6;\n",
              "      --disabled-fill-color: #AAA;\n",
              "      --disabled-bg-color: #DDD;\n",
              "  }\n",
              "\n",
              "  [theme=dark] .colab-df-quickchart {\n",
              "      --bg-color: #3B4455;\n",
              "      --fill-color: #D2E3FC;\n",
              "      --hover-bg-color: #434B5C;\n",
              "      --hover-fill-color: #FFFFFF;\n",
              "      --disabled-bg-color: #3B4455;\n",
              "      --disabled-fill-color: #666;\n",
              "  }\n",
              "\n",
              "  .colab-df-quickchart {\n",
              "    background-color: var(--bg-color);\n",
              "    border: none;\n",
              "    border-radius: 50%;\n",
              "    cursor: pointer;\n",
              "    display: none;\n",
              "    fill: var(--fill-color);\n",
              "    height: 32px;\n",
              "    padding: 0;\n",
              "    width: 32px;\n",
              "  }\n",
              "\n",
              "  .colab-df-quickchart:hover {\n",
              "    background-color: var(--hover-bg-color);\n",
              "    box-shadow: 0 1px 2px rgba(60, 64, 67, 0.3), 0 1px 3px 1px rgba(60, 64, 67, 0.15);\n",
              "    fill: var(--button-hover-fill-color);\n",
              "  }\n",
              "\n",
              "  .colab-df-quickchart-complete:disabled,\n",
              "  .colab-df-quickchart-complete:disabled:hover {\n",
              "    background-color: var(--disabled-bg-color);\n",
              "    fill: var(--disabled-fill-color);\n",
              "    box-shadow: none;\n",
              "  }\n",
              "\n",
              "  .colab-df-spinner {\n",
              "    border: 2px solid var(--fill-color);\n",
              "    border-color: transparent;\n",
              "    border-bottom-color: var(--fill-color);\n",
              "    animation:\n",
              "      spin 1s steps(1) infinite;\n",
              "  }\n",
              "\n",
              "  @keyframes spin {\n",
              "    0% {\n",
              "      border-color: transparent;\n",
              "      border-bottom-color: var(--fill-color);\n",
              "      border-left-color: var(--fill-color);\n",
              "    }\n",
              "    20% {\n",
              "      border-color: transparent;\n",
              "      border-left-color: var(--fill-color);\n",
              "      border-top-color: var(--fill-color);\n",
              "    }\n",
              "    30% {\n",
              "      border-color: transparent;\n",
              "      border-left-color: var(--fill-color);\n",
              "      border-top-color: var(--fill-color);\n",
              "      border-right-color: var(--fill-color);\n",
              "    }\n",
              "    40% {\n",
              "      border-color: transparent;\n",
              "      border-right-color: var(--fill-color);\n",
              "      border-top-color: var(--fill-color);\n",
              "    }\n",
              "    60% {\n",
              "      border-color: transparent;\n",
              "      border-right-color: var(--fill-color);\n",
              "    }\n",
              "    80% {\n",
              "      border-color: transparent;\n",
              "      border-right-color: var(--fill-color);\n",
              "      border-bottom-color: var(--fill-color);\n",
              "    }\n",
              "    90% {\n",
              "      border-color: transparent;\n",
              "      border-bottom-color: var(--fill-color);\n",
              "    }\n",
              "  }\n",
              "</style>\n",
              "\n",
              "  <script>\n",
              "    async function quickchart(key) {\n",
              "      const quickchartButtonEl =\n",
              "        document.querySelector('#' + key + ' button');\n",
              "      quickchartButtonEl.disabled = true;  // To prevent multiple clicks.\n",
              "      quickchartButtonEl.classList.add('colab-df-spinner');\n",
              "      try {\n",
              "        const charts = await google.colab.kernel.invokeFunction(\n",
              "            'suggestCharts', [key], {});\n",
              "      } catch (error) {\n",
              "        console.error('Error during call to suggestCharts:', error);\n",
              "      }\n",
              "      quickchartButtonEl.classList.remove('colab-df-spinner');\n",
              "      quickchartButtonEl.classList.add('colab-df-quickchart-complete');\n",
              "    }\n",
              "    (() => {\n",
              "      let quickchartButtonEl =\n",
              "        document.querySelector('#df-5b5d52fe-8dcf-4ae9-a475-4d99f9a44474 button');\n",
              "      quickchartButtonEl.style.display =\n",
              "        google.colab.kernel.accessAllowed ? 'block' : 'none';\n",
              "    })();\n",
              "  </script>\n",
              "</div>\n",
              "\n",
              "  <div id=\"id_76361318-6c72-49a6-b584-be7772982b6f\">\n",
              "    <style>\n",
              "      .colab-df-generate {\n",
              "        background-color: #E8F0FE;\n",
              "        border: none;\n",
              "        border-radius: 50%;\n",
              "        cursor: pointer;\n",
              "        display: none;\n",
              "        fill: #1967D2;\n",
              "        height: 32px;\n",
              "        padding: 0 0 0 0;\n",
              "        width: 32px;\n",
              "      }\n",
              "\n",
              "      .colab-df-generate:hover {\n",
              "        background-color: #E2EBFA;\n",
              "        box-shadow: 0px 1px 2px rgba(60, 64, 67, 0.3), 0px 1px 3px 1px rgba(60, 64, 67, 0.15);\n",
              "        fill: #174EA6;\n",
              "      }\n",
              "\n",
              "      [theme=dark] .colab-df-generate {\n",
              "        background-color: #3B4455;\n",
              "        fill: #D2E3FC;\n",
              "      }\n",
              "\n",
              "      [theme=dark] .colab-df-generate:hover {\n",
              "        background-color: #434B5C;\n",
              "        box-shadow: 0px 1px 3px 1px rgba(0, 0, 0, 0.15);\n",
              "        filter: drop-shadow(0px 1px 2px rgba(0, 0, 0, 0.3));\n",
              "        fill: #FFFFFF;\n",
              "      }\n",
              "    </style>\n",
              "    <button class=\"colab-df-generate\" onclick=\"generateWithVariable('freq_qualitativas')\"\n",
              "            title=\"Generate code using this dataframe.\"\n",
              "            style=\"display:none;\">\n",
              "\n",
              "  <svg xmlns=\"http://www.w3.org/2000/svg\" height=\"24px\"viewBox=\"0 0 24 24\"\n",
              "       width=\"24px\">\n",
              "    <path d=\"M7,19H8.4L18.45,9,17,7.55,7,17.6ZM5,21V16.75L18.45,3.32a2,2,0,0,1,2.83,0l1.4,1.43a1.91,1.91,0,0,1,.58,1.4,1.91,1.91,0,0,1-.58,1.4L9.25,21ZM18.45,9,17,7.55Zm-12,3A5.31,5.31,0,0,0,4.9,8.1,5.31,5.31,0,0,0,1,6.5,5.31,5.31,0,0,0,4.9,4.9,5.31,5.31,0,0,0,6.5,1,5.31,5.31,0,0,0,8.1,4.9,5.31,5.31,0,0,0,12,6.5,5.46,5.46,0,0,0,6.5,12Z\"/>\n",
              "  </svg>\n",
              "    </button>\n",
              "    <script>\n",
              "      (() => {\n",
              "      const buttonEl =\n",
              "        document.querySelector('#id_76361318-6c72-49a6-b584-be7772982b6f button.colab-df-generate');\n",
              "      buttonEl.style.display =\n",
              "        google.colab.kernel.accessAllowed ? 'block' : 'none';\n",
              "\n",
              "      buttonEl.onclick = () => {\n",
              "        google.colab.notebook.generateWithVariable('freq_qualitativas');\n",
              "      }\n",
              "      })();\n",
              "    </script>\n",
              "  </div>\n",
              "\n",
              "    </div>\n",
              "  </div>\n"
            ],
            "application/vnd.google.colaboratory.intrinsic+json": {
              "type": "dataframe",
              "variable_name": "freq_qualitativas",
              "summary": "{\n  \"name\": \"freq_qualitativas\",\n  \"rows\": 3,\n  \"fields\": [\n    {\n      \"column\": \"GENERO\",\n      \"properties\": {\n        \"dtype\": \"string\",\n        \"num_unique_values\": 3,\n        \"samples\": [\n          \"Masculino\",\n          \"Feminino\",\n          \"Indefinido\"\n        ],\n        \"semantic_type\": \"\",\n        \"description\": \"\"\n      }\n    },\n    {\n      \"column\": \"SEXO\",\n      \"properties\": {\n        \"dtype\": \"string\",\n        \"num_unique_values\": 3,\n        \"samples\": [\n          \"Masculino\",\n          \"Feminino\",\n          \"Indefinido\"\n        ],\n        \"semantic_type\": \"\",\n        \"description\": \"\"\n      }\n    },\n    {\n      \"column\": \"FREQU\\u00caNCIA\",\n      \"properties\": {\n        \"dtype\": \"number\",\n        \"std\": 282,\n        \"min\": 8,\n        \"max\": 527,\n        \"num_unique_values\": 3,\n        \"samples\": [\n          527,\n          463,\n          8\n        ],\n        \"semantic_type\": \"\",\n        \"description\": \"\"\n      }\n    },\n    {\n      \"column\": \"PORCENTAGEM (%)\",\n      \"properties\": {\n        \"dtype\": \"number\",\n        \"std\": 28.355834202740947,\n        \"min\": 0.8,\n        \"max\": 52.8,\n        \"num_unique_values\": 3,\n        \"samples\": [\n          52.8,\n          46.4,\n          0.8\n        ],\n        \"semantic_type\": \"\",\n        \"description\": \"\"\n      }\n    }\n  ]\n}"
            }
          },
          "metadata": {},
          "execution_count": 51
        }
      ],
      "source": [
        "freq_qualitativas"
      ]
    },
    {
      "cell_type": "code",
      "execution_count": 52,
      "id": "1ac54275",
      "metadata": {
        "colab": {
          "base_uri": "https://localhost:8080/",
          "height": 472
        },
        "id": "1ac54275",
        "outputId": "caef0c34-4b67-4976-f83c-30675b8e0616"
      },
      "outputs": [
        {
          "output_type": "display_data",
          "data": {
            "text/plain": [
              "<Figure size 640x480 with 1 Axes>"
            ],
            "image/png": "[encoded data removed]"
          },
          "metadata": {}
        }
      ],
      "source": [
        "#### Análise das frequencias quantitativas\n",
        "\n",
        "fig, ax = plt.subplots()\n",
        "ax.hist(banco_nordeste['SALARIO'], bins=20, color='red', alpha=0.7)\n",
        "ax.set_title('Escala Logarítmica dos Salários')\n",
        "ax.set_xlabel('Salário')\n",
        "ax.set_yscale('log')\n"
      ]
    },
    {
      "cell_type": "code",
      "execution_count": 53,
      "id": "85d954eb",
      "metadata": {
        "colab": {
          "base_uri": "https://localhost:8080/",
          "height": 405
        },
        "id": "85d954eb",
        "outputId": "20910b97-e672-4544-d71f-f1c4e231778f"
      },
      "outputs": [
        {
          "output_type": "execute_result",
          "data": {
            "text/plain": [
              "<Axes: xlabel='SALARIO'>"
            ]
          },
          "metadata": {},
          "execution_count": 53
        },
        {
          "output_type": "display_data",
          "data": {
            "text/plain": [
              "<Figure size 1200x400 with 1 Axes>"
            ],
            "image/png": "[encoded data removed]"
          },
          "metadata": {}
        }
      ],
      "source": [
        "ax = sns.boxplot(x = 'SALARIO', data = banco_nordeste.query('SALARIO < 200000'), orient = 'h')\n",
        "ax.figure.set_size_inches(12,4)\n",
        "ax"
      ]
    },
    {
      "cell_type": "code",
      "execution_count": 54,
      "id": "d0eb64cf",
      "metadata": {
        "colab": {
          "base_uri": "https://localhost:8080/"
        },
        "id": "d0eb64cf",
        "outputId": "0a6f536f-df5c-4246-b787-c4f1dc6723ad"
      },
      "outputs": [
        {
          "output_type": "execute_result",
          "data": {
            "text/plain": [
              "35058294.512024045"
            ]
          },
          "metadata": {},
          "execution_count": 54
        }
      ],
      "source": [
        "banco_nordeste['SALARIO'].mean()"
      ]
    },
    {
      "cell_type": "code",
      "execution_count": 55,
      "id": "728a6d1a",
      "metadata": {
        "colab": {
          "base_uri": "https://localhost:8080/"
        },
        "id": "728a6d1a",
        "outputId": "5940939e-41bf-4df9-cfc5-3ea36cf811c1"
      },
      "outputs": [
        {
          "output_type": "execute_result",
          "data": {
            "text/plain": [
              "0.25     2849010.50\n",
              "0.50     8637195.50\n",
              "0.75    14013806.75\n",
              "Name: SALARIO, dtype: float64"
            ]
          },
          "metadata": {},
          "execution_count": 55
        }
      ],
      "source": [
        "banco_nordeste['SALARIO'].quantile([0.25,0.50,0.75])"
      ]
    },
    {
      "cell_type": "code",
      "execution_count": 56,
      "id": "bf0ba8bd",
      "metadata": {
        "colab": {
          "base_uri": "https://localhost:8080/",
          "height": 262
        },
        "id": "bf0ba8bd",
        "outputId": "2c3cf7c9-ae1a-43b2-8a45-6aac256df887"
      },
      "outputs": [
        {
          "output_type": "execute_result",
          "data": {
            "text/plain": [
              "      ID  PONTOS    ESTADO     GENERO  IDADE  BENS  SALDO NA CONTA  PRODUTO POSSUI CARTAO ATIVO       SALARIO SAIU                                          DESCRIÇÃO\n",
              "7      8     376     Ceará   Feminino     29     4        11504674        4           Sim   Não  1.193469e+10  Sim  Possui 376 pontos, 4 bens e mora em Ceará. Adq...\n",
              "116  118     668     Ceará   Feminino     37     6         1678644        1           Sim   Não  1.156383e+10  Não  Possui 668 pontos, 6 bens e mora em Ceará. Adq...\n",
              "170  172     484  Maranhão   Feminino     29     4        13011439        1           Sim   Não  1.640179e+09  Não  Possui 484 pontos, 4 bens e mora em Maranhão. ...\n",
              "230  232     673  Maranhão  Masculino     72     1               0        2           Não   Sim  1.119812e+09  Não  Possui 673 pontos, 1 bens e mora em Maranhão. ..."
            ],
            "text/html": [
              "\n",
              "  <div id=\"df-834ff368-efd3-4abf-82d6-5540aeca422b\" class=\"colab-df-container\">\n",
              "    <div>\n",
              "<style scoped>\n",
              "    .dataframe tbody tr th:only-of-type {\n",
              "        vertical-align: middle;\n",
              "    }\n",
              "\n",
              "    .dataframe tbody tr th {\n",
              "        vertical-align: top;\n",
              "    }\n",
              "\n",
              "    .dataframe thead th {\n",
              "        text-align: right;\n",
              "    }\n",
              "</style>\n",
              "<table border=\"1\" class=\"dataframe\">\n",
              "  <thead>\n",
              "    <tr style=\"text-align: right;\">\n",
              "      <th></th>\n",
              "      <th>ID</th>\n",
              "      <th>PONTOS</th>\n",
              "      <th>ESTADO</th>\n",
              "      <th>GENERO</th>\n",
              "      <th>IDADE</th>\n",
              "      <th>BENS</th>\n",
              "      <th>SALDO NA CONTA</th>\n",
              "      <th>PRODUTO</th>\n",
              "      <th>POSSUI CARTAO</th>\n",
              "      <th>ATIVO</th>\n",
              "      <th>SALARIO</th>\n",
              "      <th>SAIU</th>\n",
              "      <th>DESCRIÇÃO</th>\n",
              "    </tr>\n",
              "  </thead>\n",
              "  <tbody>\n",
              "    <tr>\n",
              "      <th>7</th>\n",
              "      <td>8</td>\n",
              "      <td>376</td>\n",
              "      <td>Ceará</td>\n",
              "      <td>Feminino</td>\n",
              "      <td>29</td>\n",
              "      <td>4</td>\n",
              "      <td>11504674</td>\n",
              "      <td>4</td>\n",
              "      <td>Sim</td>\n",
              "      <td>Não</td>\n",
              "      <td>1.193469e+10</td>\n",
              "      <td>Sim</td>\n",
              "      <td>Possui 376 pontos, 4 bens e mora em Ceará. Adq...</td>\n",
              "    </tr>\n",
              "    <tr>\n",
              "      <th>116</th>\n",
              "      <td>118</td>\n",
              "      <td>668</td>\n",
              "      <td>Ceará</td>\n",
              "      <td>Feminino</td>\n",
              "      <td>37</td>\n",
              "      <td>6</td>\n",
              "      <td>1678644</td>\n",
              "      <td>1</td>\n",
              "      <td>Sim</td>\n",
              "      <td>Não</td>\n",
              "      <td>1.156383e+10</td>\n",
              "      <td>Não</td>\n",
              "      <td>Possui 668 pontos, 6 bens e mora em Ceará. Adq...</td>\n",
              "    </tr>\n",
              "    <tr>\n",
              "      <th>170</th>\n",
              "      <td>172</td>\n",
              "      <td>484</td>\n",
              "      <td>Maranhão</td>\n",
              "      <td>Feminino</td>\n",
              "      <td>29</td>\n",
              "      <td>4</td>\n",
              "      <td>13011439</td>\n",
              "      <td>1</td>\n",
              "      <td>Sim</td>\n",
              "      <td>Não</td>\n",
              "      <td>1.640179e+09</td>\n",
              "      <td>Não</td>\n",
              "      <td>Possui 484 pontos, 4 bens e mora em Maranhão. ...</td>\n",
              "    </tr>\n",
              "    <tr>\n",
              "      <th>230</th>\n",
              "      <td>232</td>\n",
              "      <td>673</td>\n",
              "      <td>Maranhão</td>\n",
              "      <td>Masculino</td>\n",
              "      <td>72</td>\n",
              "      <td>1</td>\n",
              "      <td>0</td>\n",
              "      <td>2</td>\n",
              "      <td>Não</td>\n",
              "      <td>Sim</td>\n",
              "      <td>1.119812e+09</td>\n",
              "      <td>Não</td>\n",
              "      <td>Possui 673 pontos, 1 bens e mora em Maranhão. ...</td>\n",
              "    </tr>\n",
              "  </tbody>\n",
              "</table>\n",
              "</div>\n",
              "    <div class=\"colab-df-buttons\">\n",
              "\n",
              "  <div class=\"colab-df-container\">\n",
              "    <button class=\"colab-df-convert\" onclick=\"convertToInteractive('df-834ff368-efd3-4abf-82d6-5540aeca422b')\"\n",
              "            title=\"Convert this dataframe to an interactive table.\"\n",
              "            style=\"display:none;\">\n",
              "\n",
              "  <svg xmlns=\"http://www.w3.org/2000/svg\" height=\"24px\" viewBox=\"0 -960 960 960\">\n",
              "    <path d=\"M120-120v-720h720v720H120Zm60-500h600v-160H180v160Zm220 220h160v-160H400v160Zm0 220h160v-160H400v160ZM180-400h160v-160H180v160Zm440 0h160v-160H620v160ZM180-180h160v-160H180v160Zm440 0h160v-160H620v160Z\"/>\n",
              "  </svg>\n",
              "    </button>\n",
              "\n",
              "  <style>\n",
              "    .colab-df-container {\n",
              "      display:flex;\n",
              "      gap: 12px;\n",
              "    }\n",
              "\n",
              "    .colab-df-convert {\n",
              "      background-color: #E8F0FE;\n",
              "      border: none;\n",
              "      border-radius: 50%;\n",
              "      cursor: pointer;\n",
              "      display: none;\n",
              "      fill: #1967D2;\n",
              "      height: 32px;\n",
              "      padding: 0 0 0 0;\n",
              "      width: 32px;\n",
              "    }\n",
              "\n",
              "    .colab-df-convert:hover {\n",
              "      background-color: #E2EBFA;\n",
              "      box-shadow: 0px 1px 2px rgba(60, 64, 67, 0.3), 0px 1px 3px 1px rgba(60, 64, 67, 0.15);\n",
              "      fill: #174EA6;\n",
              "    }\n",
              "\n",
              "    .colab-df-buttons div {\n",
              "      margin-bottom: 4px;\n",
              "    }\n",
              "\n",
              "    [theme=dark] .colab-df-convert {\n",
              "      background-color: #3B4455;\n",
              "      fill: #D2E3FC;\n",
              "    }\n",
              "\n",
              "    [theme=dark] .colab-df-convert:hover {\n",
              "      background-color: #434B5C;\n",
              "      box-shadow: 0px 1px 3px 1px rgba(0, 0, 0, 0.15);\n",
              "      filter: drop-shadow(0px 1px 2px rgba(0, 0, 0, 0.3));\n",
              "      fill: #FFFFFF;\n",
              "    }\n",
              "  </style>\n",
              "\n",
              "    <script>\n",
              "      const buttonEl =\n",
              "        document.querySelector('#df-834ff368-efd3-4abf-82d6-5540aeca422b button.colab-df-convert');\n",
              "      buttonEl.style.display =\n",
              "        google.colab.kernel.accessAllowed ? 'block' : 'none';\n",
              "\n",
              "      async function convertToInteractive(key) {\n",
              "        const element = document.querySelector('#df-834ff368-efd3-4abf-82d6-5540aeca422b');\n",
              "        const dataTable =\n",
              "          await google.colab.kernel.invokeFunction('convertToInteractive',\n",
              "                                                    [key], {});\n",
              "        if (!dataTable) return;\n",
              "\n",
              "        const docLinkHtml = 'Like what you see? Visit the ' +\n",
              "          '<a target=\"_blank\" href=https://colab.research.google.com/notebooks/data_table.ipynb>data table notebook</a>'\n",
              "          + ' to learn more about interactive tables.';\n",
              "        element.innerHTML = '';\n",
              "        dataTable['output_type'] = 'display_data';\n",
              "        await google.colab.output.renderOutput(dataTable, element);\n",
              "        const docLink = document.createElement('div');\n",
              "        docLink.innerHTML = docLinkHtml;\n",
              "        element.appendChild(docLink);\n",
              "      }\n",
              "    </script>\n",
              "  </div>\n",
              "\n",
              "\n",
              "<div id=\"df-4e130b64-b083-46b3-aaa4-ad9aff1ca684\">\n",
              "  <button class=\"colab-df-quickchart\" onclick=\"quickchart('df-4e130b64-b083-46b3-aaa4-ad9aff1ca684')\"\n",
              "            title=\"Suggest charts\"\n",
              "            style=\"display:none;\">\n",
              "\n",
              "<svg xmlns=\"http://www.w3.org/2000/svg\" height=\"24px\"viewBox=\"0 0 24 24\"\n",
              "     width=\"24px\">\n",
              "    <g>\n",
              "        <path d=\"M19 3H5c-1.1 0-2 .9-2 2v14c0 1.1.9 2 2 2h14c1.1 0 2-.9 2-2V5c0-1.1-.9-2-2-2zM9 17H7v-7h2v7zm4 0h-2V7h2v10zm4 0h-2v-4h2v4z\"/>\n",
              "    </g>\n",
              "</svg>\n",
              "  </button>\n",
              "\n",
              "<style>\n",
              "  .colab-df-quickchart {\n",
              "      --bg-color: #E8F0FE;\n",
              "      --fill-color: #1967D2;\n",
              "      --hover-bg-color: #E2EBFA;\n",
              "      --hover-fill-color: #174EA6;\n",
              "      --disabled-fill-color: #AAA;\n",
              "      --disabled-bg-color: #DDD;\n",
              "  }\n",
              "\n",
              "  [theme=dark] .colab-df-quickchart {\n",
              "      --bg-color: #3B4455;\n",
              "      --fill-color: #D2E3FC;\n",
              "      --hover-bg-color: #434B5C;\n",
              "      --hover-fill-color: #FFFFFF;\n",
              "      --disabled-bg-color: #3B4455;\n",
              "      --disabled-fill-color: #666;\n",
              "  }\n",
              "\n",
              "  .colab-df-quickchart {\n",
              "    background-color: var(--bg-color);\n",
              "    border: none;\n",
              "    border-radius: 50%;\n",
              "    cursor: pointer;\n",
              "    display: none;\n",
              "    fill: var(--fill-color);\n",
              "    height: 32px;\n",
              "    padding: 0;\n",
              "    width: 32px;\n",
              "  }\n",
              "\n",
              "  .colab-df-quickchart:hover {\n",
              "    background-color: var(--hover-bg-color);\n",
              "    box-shadow: 0 1px 2px rgba(60, 64, 67, 0.3), 0 1px 3px 1px rgba(60, 64, 67, 0.15);\n",
              "    fill: var(--button-hover-fill-color);\n",
              "  }\n",
              "\n",
              "  .colab-df-quickchart-complete:disabled,\n",
              "  .colab-df-quickchart-complete:disabled:hover {\n",
              "    background-color: var(--disabled-bg-color);\n",
              "    fill: var(--disabled-fill-color);\n",
              "    box-shadow: none;\n",
              "  }\n",
              "\n",
              "  .colab-df-spinner {\n",
              "    border: 2px solid var(--fill-color);\n",
              "    border-color: transparent;\n",
              "    border-bottom-color: var(--fill-color);\n",
              "    animation:\n",
              "      spin 1s steps(1) infinite;\n",
              "  }\n",
              "\n",
              "  @keyframes spin {\n",
              "    0% {\n",
              "      border-color: transparent;\n",
              "      border-bottom-color: var(--fill-color);\n",
              "      border-left-color: var(--fill-color);\n",
              "    }\n",
              "    20% {\n",
              "      border-color: transparent;\n",
              "      border-left-color: var(--fill-color);\n",
              "      border-top-color: var(--fill-color);\n",
              "    }\n",
              "    30% {\n",
              "      border-color: transparent;\n",
              "      border-left-color: var(--fill-color);\n",
              "      border-top-color: var(--fill-color);\n",
              "      border-right-color: var(--fill-color);\n",
              "    }\n",
              "    40% {\n",
              "      border-color: transparent;\n",
              "      border-right-color: var(--fill-color);\n",
              "      border-top-color: var(--fill-color);\n",
              "    }\n",
              "    60% {\n",
              "      border-color: transparent;\n",
              "      border-right-color: var(--fill-color);\n",
              "    }\n",
              "    80% {\n",
              "      border-color: transparent;\n",
              "      border-right-color: var(--fill-color);\n",
              "      border-bottom-color: var(--fill-color);\n",
              "    }\n",
              "    90% {\n",
              "      border-color: transparent;\n",
              "      border-bottom-color: var(--fill-color);\n",
              "    }\n",
              "  }\n",
              "</style>\n",
              "\n",
              "  <script>\n",
              "    async function quickchart(key) {\n",
              "      const quickchartButtonEl =\n",
              "        document.querySelector('#' + key + ' button');\n",
              "      quickchartButtonEl.disabled = true;  // To prevent multiple clicks.\n",
              "      quickchartButtonEl.classList.add('colab-df-spinner');\n",
              "      try {\n",
              "        const charts = await google.colab.kernel.invokeFunction(\n",
              "            'suggestCharts', [key], {});\n",
              "      } catch (error) {\n",
              "        console.error('Error during call to suggestCharts:', error);\n",
              "      }\n",
              "      quickchartButtonEl.classList.remove('colab-df-spinner');\n",
              "      quickchartButtonEl.classList.add('colab-df-quickchart-complete');\n",
              "    }\n",
              "    (() => {\n",
              "      let quickchartButtonEl =\n",
              "        document.querySelector('#df-4e130b64-b083-46b3-aaa4-ad9aff1ca684 button');\n",
              "      quickchartButtonEl.style.display =\n",
              "        google.colab.kernel.accessAllowed ? 'block' : 'none';\n",
              "    })();\n",
              "  </script>\n",
              "</div>\n",
              "\n",
              "  <div id=\"id_c409fbb8-6cde-4304-b148-9ac6e75a2113\">\n",
              "    <style>\n",
              "      .colab-df-generate {\n",
              "        background-color: #E8F0FE;\n",
              "        border: none;\n",
              "        border-radius: 50%;\n",
              "        cursor: pointer;\n",
              "        display: none;\n",
              "        fill: #1967D2;\n",
              "        height: 32px;\n",
              "        padding: 0 0 0 0;\n",
              "        width: 32px;\n",
              "      }\n",
              "\n",
              "      .colab-df-generate:hover {\n",
              "        background-color: #E2EBFA;\n",
              "        box-shadow: 0px 1px 2px rgba(60, 64, 67, 0.3), 0px 1px 3px 1px rgba(60, 64, 67, 0.15);\n",
              "        fill: #174EA6;\n",
              "      }\n",
              "\n",
              "      [theme=dark] .colab-df-generate {\n",
              "        background-color: #3B4455;\n",
              "        fill: #D2E3FC;\n",
              "      }\n",
              "\n",
              "      [theme=dark] .colab-df-generate:hover {\n",
              "        background-color: #434B5C;\n",
              "        box-shadow: 0px 1px 3px 1px rgba(0, 0, 0, 0.15);\n",
              "        filter: drop-shadow(0px 1px 2px rgba(0, 0, 0, 0.3));\n",
              "        fill: #FFFFFF;\n",
              "      }\n",
              "    </style>\n",
              "    <button class=\"colab-df-generate\" onclick=\"generateWithVariable('outliers')\"\n",
              "            title=\"Generate code using this dataframe.\"\n",
              "            style=\"display:none;\">\n",
              "\n",
              "  <svg xmlns=\"http://www.w3.org/2000/svg\" height=\"24px\"viewBox=\"0 0 24 24\"\n",
              "       width=\"24px\">\n",
              "    <path d=\"M7,19H8.4L18.45,9,17,7.55,7,17.6ZM5,21V16.75L18.45,3.32a2,2,0,0,1,2.83,0l1.4,1.43a1.91,1.91,0,0,1,.58,1.4,1.91,1.91,0,0,1-.58,1.4L9.25,21ZM18.45,9,17,7.55Zm-12,3A5.31,5.31,0,0,0,4.9,8.1,5.31,5.31,0,0,0,1,6.5,5.31,5.31,0,0,0,4.9,4.9,5.31,5.31,0,0,0,6.5,1,5.31,5.31,0,0,0,8.1,4.9,5.31,5.31,0,0,0,12,6.5,5.46,5.46,0,0,0,6.5,12Z\"/>\n",
              "  </svg>\n",
              "    </button>\n",
              "    <script>\n",
              "      (() => {\n",
              "      const buttonEl =\n",
              "        document.querySelector('#id_c409fbb8-6cde-4304-b148-9ac6e75a2113 button.colab-df-generate');\n",
              "      buttonEl.style.display =\n",
              "        google.colab.kernel.accessAllowed ? 'block' : 'none';\n",
              "\n",
              "      buttonEl.onclick = () => {\n",
              "        google.colab.notebook.generateWithVariable('outliers');\n",
              "      }\n",
              "      })();\n",
              "    </script>\n",
              "  </div>\n",
              "\n",
              "    </div>\n",
              "  </div>\n"
            ],
            "application/vnd.google.colaboratory.intrinsic+json": {
              "type": "dataframe",
              "variable_name": "outliers",
              "summary": "{\n  \"name\": \"outliers\",\n  \"rows\": 4,\n  \"fields\": [\n    {\n      \"column\": \"ID\",\n      \"properties\": {\n        \"dtype\": \"number\",\n        \"std\": 95,\n        \"min\": 8,\n        \"max\": 232,\n        \"num_unique_values\": 4,\n        \"samples\": [\n          118,\n          232,\n          8\n        ],\n        \"semantic_type\": \"\",\n        \"description\": \"\"\n      }\n    },\n    {\n      \"column\": \"PONTOS\",\n      \"properties\": {\n        \"dtype\": \"number\",\n        \"std\": 145,\n        \"min\": 376,\n        \"max\": 673,\n        \"num_unique_values\": 4,\n        \"samples\": [\n          668,\n          673,\n          376\n        ],\n        \"semantic_type\": \"\",\n        \"description\": \"\"\n      }\n    },\n    {\n      \"column\": \"ESTADO\",\n      \"properties\": {\n        \"dtype\": \"string\",\n        \"num_unique_values\": 2,\n        \"samples\": [\n          \"Maranh\\u00e3o\",\n          \"Cear\\u00e1\"\n        ],\n        \"semantic_type\": \"\",\n        \"description\": \"\"\n      }\n    },\n    {\n      \"column\": \"GENERO\",\n      \"properties\": {\n        \"dtype\": \"string\",\n        \"num_unique_values\": 2,\n        \"samples\": [\n          \"Masculino\",\n          \"Feminino\"\n        ],\n        \"semantic_type\": \"\",\n        \"description\": \"\"\n      }\n    },\n    {\n      \"column\": \"IDADE\",\n      \"properties\": {\n        \"dtype\": \"number\",\n        \"std\": 20,\n        \"min\": 29,\n        \"max\": 72,\n        \"num_unique_values\": 3,\n        \"samples\": [\n          29,\n          37\n        ],\n        \"semantic_type\": \"\",\n        \"description\": \"\"\n      }\n    },\n    {\n      \"column\": \"BENS\",\n      \"properties\": {\n        \"dtype\": \"number\",\n        \"std\": 2,\n        \"min\": 1,\n        \"max\": 6,\n        \"num_unique_values\": 3,\n        \"samples\": [\n          4,\n          6\n        ],\n        \"semantic_type\": \"\",\n        \"description\": \"\"\n      }\n    },\n    {\n      \"column\": \"SALDO NA CONTA\",\n      \"properties\": {\n        \"dtype\": \"number\",\n        \"std\": 6656615,\n        \"min\": 0,\n        \"max\": 13011439,\n        \"num_unique_values\": 4,\n        \"samples\": [\n          1678644,\n          0\n        ],\n        \"semantic_type\": \"\",\n        \"description\": \"\"\n      }\n    },\n    {\n      \"column\": \"PRODUTO\",\n      \"properties\": {\n        \"dtype\": \"number\",\n        \"std\": 1,\n        \"min\": 1,\n        \"max\": 4,\n        \"num_unique_values\": 3,\n        \"samples\": [\n          4,\n          1\n        ],\n        \"semantic_type\": \"\",\n        \"description\": \"\"\n      }\n    },\n    {\n      \"column\": \"POSSUI CARTAO\",\n      \"properties\": {\n        \"dtype\": \"string\",\n        \"num_unique_values\": 2,\n        \"samples\": [\n          \"N\\u00e3o\",\n          \"Sim\"\n        ],\n        \"semantic_type\": \"\",\n        \"description\": \"\"\n      }\n    },\n    {\n      \"column\": \"ATIVO\",\n      \"properties\": {\n        \"dtype\": \"string\",\n        \"num_unique_values\": 2,\n        \"samples\": [\n          \"Sim\",\n          \"N\\u00e3o\"\n        ],\n        \"semantic_type\": \"\",\n        \"description\": \"\"\n      }\n    },\n    {\n      \"column\": \"SALARIO\",\n      \"properties\": {\n        \"dtype\": \"number\",\n        \"std\": 5992377834.752707,\n        \"min\": 1119811900.0,\n        \"max\": 11934688000.0,\n        \"num_unique_values\": 4,\n        \"samples\": [\n          11563829000.0,\n          1119811900.0\n        ],\n        \"semantic_type\": \"\",\n        \"description\": \"\"\n      }\n    },\n    {\n      \"column\": \"SAIU\",\n      \"properties\": {\n        \"dtype\": \"string\",\n        \"num_unique_values\": 2,\n        \"samples\": [\n          \"N\\u00e3o\",\n          \"Sim\"\n        ],\n        \"semantic_type\": \"\",\n        \"description\": \"\"\n      }\n    },\n    {\n      \"column\": \"DESCRI\\u00c7\\u00c3O\",\n      \"properties\": {\n        \"dtype\": \"string\",\n        \"num_unique_values\": 4,\n        \"samples\": [\n          \"Possui 668 pontos, 6 bens e mora em Cear\\u00e1. Adquiriu 1 produtos. Usu\\u00e1rio N\\u00e3o est\\u00e1 ativo.\",\n          \"Possui 673 pontos, 1 bens e mora em Maranh\\u00e3o. Adquiriu 2 produtos. Usu\\u00e1rio Ativo.\"\n        ],\n        \"semantic_type\": \"\",\n        \"description\": \"\"\n      }\n    }\n  ]\n}"
            }
          },
          "metadata": {},
          "execution_count": 56
        }
      ],
      "source": [
        "#DETECTAR OUTLIERS DE SALARIO\n",
        "\n",
        "Q1 = banco_nordeste['SALARIO'].quantile(0.25)\n",
        "Q3 = banco_nordeste['SALARIO'].quantile(0.75)\n",
        "IQR = Q3 - Q1 #intervalo interquartil\n",
        "\n",
        "# limites inferior e superior\n",
        "inferior = Q1 - 1.5 * IQR\n",
        "superior = Q3 + 1.5 * IQR\n",
        "\n",
        "outliers = banco_nordeste[(banco_nordeste['SALARIO'] < inferior) | (banco_nordeste['SALARIO'] > superior)]\n",
        "outliers\n"
      ]
    },
    {
      "cell_type": "code",
      "execution_count": 58,
      "id": "ca7ed28c",
      "metadata": {
        "colab": {
          "base_uri": "https://localhost:8080/"
        },
        "id": "ca7ed28c",
        "outputId": "3cfd4f35-6911-404a-8530-1042104fb150"
      },
      "outputs": [
        {
          "output_type": "stream",
          "name": "stderr",
          "text": [
            "<ipython-input-58-c8745278496a>:2: SettingWithCopyWarning: \n",
            "A value is trying to be set on a copy of a slice from a DataFrame\n",
            "\n",
            "See the caveats in the documentation: https://pandas.pydata.org/pandas-docs/stable/user_guide/indexing.html#returning-a-view-versus-a-copy\n",
            "  banco_nordeste['SALARIO'].loc[7] = banco_nordeste['SALARIO'].loc[7] /1000\n",
            "<ipython-input-58-c8745278496a>:3: SettingWithCopyWarning: \n",
            "A value is trying to be set on a copy of a slice from a DataFrame\n",
            "\n",
            "See the caveats in the documentation: https://pandas.pydata.org/pandas-docs/stable/user_guide/indexing.html#returning-a-view-versus-a-copy\n",
            "  banco_nordeste['SALARIO'].loc[116] = banco_nordeste['SALARIO'].loc[116] /1000\n",
            "<ipython-input-58-c8745278496a>:4: SettingWithCopyWarning: \n",
            "A value is trying to be set on a copy of a slice from a DataFrame\n",
            "\n",
            "See the caveats in the documentation: https://pandas.pydata.org/pandas-docs/stable/user_guide/indexing.html#returning-a-view-versus-a-copy\n",
            "  banco_nordeste['SALARIO'].loc[170] = banco_nordeste['SALARIO'].loc[170] /100\n",
            "<ipython-input-58-c8745278496a>:5: SettingWithCopyWarning: \n",
            "A value is trying to be set on a copy of a slice from a DataFrame\n",
            "\n",
            "See the caveats in the documentation: https://pandas.pydata.org/pandas-docs/stable/user_guide/indexing.html#returning-a-view-versus-a-copy\n",
            "  banco_nordeste['SALARIO'].loc[230] = banco_nordeste['SALARIO'].loc[230] /100\n"
          ]
        }
      ],
      "source": [
        "#Editando valores Outliers | retirando zeros em excesso\n",
        "banco_nordeste['SALARIO'].loc[7] = banco_nordeste['SALARIO'].loc[7] /1000\n",
        "banco_nordeste['SALARIO'].loc[116] = banco_nordeste['SALARIO'].loc[116] /1000\n",
        "banco_nordeste['SALARIO'].loc[170] = banco_nordeste['SALARIO'].loc[170] /100\n",
        "banco_nordeste['SALARIO'].loc[230] = banco_nordeste['SALARIO'].loc[230] /100\n",
        "\n",
        "        #Não executar individualmente#"
      ]
    },
    {
      "cell_type": "code",
      "source": [
        "banco_nordeste['SALARIO'].loc[230] #checagem"
      ],
      "metadata": {
        "colab": {
          "base_uri": "https://localhost:8080/"
        },
        "id": "URjwwmLkNuM_",
        "outputId": "8decbfd4-9dac-4f74-ae0f-e1df88547674"
      },
      "id": "URjwwmLkNuM_",
      "execution_count": 67,
      "outputs": [
        {
          "output_type": "execute_result",
          "data": {
            "text/plain": [
              "11198119.0"
            ]
          },
          "metadata": {},
          "execution_count": 67
        }
      ]
    },
    {
      "cell_type": "code",
      "execution_count": 60,
      "id": "023bfe37",
      "metadata": {
        "colab": {
          "base_uri": "https://localhost:8080/",
          "height": 472
        },
        "id": "023bfe37",
        "outputId": "0f361605-8c9f-402b-8825-69d02857cecd"
      },
      "outputs": [
        {
          "output_type": "display_data",
          "data": {
            "text/plain": [
              "<Figure size 640x480 with 1 Axes>"
            ],
            "image/png": "[encoded data removed]"
          },
          "metadata": {}
        }
      ],
      "source": [
        "#### Análise das frequencias quantitativas\n",
        "\n",
        "fig, ax = plt.subplots()\n",
        "ax.hist(banco_nordeste['SALARIO'], bins=20, color='red', alpha=0.7)\n",
        "ax.set_title('Escala Logarítmica dos Salários')\n",
        "ax.set_xlabel('Salário')\n",
        "ax.set_yscale('log')\n"
      ]
    },
    {
      "cell_type": "code",
      "execution_count": 60,
      "id": "62e51cb8",
      "metadata": {
        "id": "62e51cb8"
      },
      "outputs": [],
      "source": []
    },
    {
      "cell_type": "code",
      "execution_count": 61,
      "id": "acfc892e",
      "metadata": {
        "id": "acfc892e"
      },
      "outputs": [],
      "source": [
        "classes = [0, 2000, 20000, 200000, 2000000, 19972539]\n",
        "labels = ['< 2.000', '2.000 - 20.000', '20.000 - 200.000', '200.000 - 2.000.000', '> 2.000.000']"
      ]
    },
    {
      "cell_type": "code",
      "execution_count": 62,
      "id": "d58094a6",
      "metadata": {
        "colab": {
          "base_uri": "https://localhost:8080/"
        },
        "id": "d58094a6",
        "outputId": "43171ec6-7820-45e2-a56b-cfea040e5722"
      },
      "outputs": [
        {
          "output_type": "execute_result",
          "data": {
            "text/plain": [
              "SALARIO\n",
              "> 2.000.000            781\n",
              "200.000 - 2.000.000    170\n",
              "20.000 - 200.000        33\n",
              "< 2.000                  7\n",
              "2.000 - 20.000           7\n",
              "Name: count, dtype: int64"
            ]
          },
          "metadata": {},
          "execution_count": 62
        }
      ],
      "source": [
        "freq_qnt = pd.value_counts(pd.cut(x= banco_nordeste.SALARIO,\n",
        "       bins = classes,\n",
        "       labels = labels,\n",
        "       include_lowest = True #incluir o 0\n",
        "))\n",
        "freq_qnt"
      ]
    },
    {
      "cell_type": "code",
      "execution_count": 63,
      "id": "ba9c463c",
      "metadata": {
        "id": "ba9c463c"
      },
      "outputs": [],
      "source": [
        "per_qnt = pd.value_counts(pd.cut(x= banco_nordeste.SALARIO,\n",
        "       bins = classes,\n",
        "       labels = labels,\n",
        "       include_lowest = True #incluir o 0\n",
        "), normalize = True) * 100\n",
        "#per_qnt = per_qnt.round(1)"
      ]
    },
    {
      "cell_type": "code",
      "execution_count": 64,
      "id": "407032ec",
      "metadata": {
        "id": "407032ec"
      },
      "outputs": [],
      "source": [
        "#criação de dataframe para dados de Sexo\n",
        "freq_quantitativas = pd.DataFrame({'SALÁRIO': freq_qnt.index, 'FREQUÊNCIA':freq_qnt, 'PORCENTAGEM (%)':per_qnt})\n",
        "freq_quantitativas.sort_index(ascending = False, inplace = True)"
      ]
    },
    {
      "cell_type": "code",
      "execution_count": 65,
      "id": "bcdf2973",
      "metadata": {
        "colab": {
          "base_uri": "https://localhost:8080/",
          "height": 238
        },
        "id": "bcdf2973",
        "outputId": "fb714e18-8a71-4bbd-82c3-6611e1048a68"
      },
      "outputs": [
        {
          "output_type": "execute_result",
          "data": {
            "text/plain": [
              "                                 SALÁRIO  FREQUÊNCIA  PORCENTAGEM (%)\n",
              "SALARIO                                                              \n",
              "> 2.000.000                  > 2.000.000         781        78.256513\n",
              "200.000 - 2.000.000  200.000 - 2.000.000         170        17.034068\n",
              "20.000 - 200.000        20.000 - 200.000          33         3.306613\n",
              "2.000 - 20.000            2.000 - 20.000           7         0.701403\n",
              "< 2.000                          < 2.000           7         0.701403"
            ],
            "text/html": [
              "\n",
              "  <div id=\"df-3633239a-8394-442f-851d-84b98f1adb54\" class=\"colab-df-container\">\n",
              "    <div>\n",
              "<style scoped>\n",
              "    .dataframe tbody tr th:only-of-type {\n",
              "        vertical-align: middle;\n",
              "    }\n",
              "\n",
              "    .dataframe tbody tr th {\n",
              "        vertical-align: top;\n",
              "    }\n",
              "\n",
              "    .dataframe thead th {\n",
              "        text-align: right;\n",
              "    }\n",
              "</style>\n",
              "<table border=\"1\" class=\"dataframe\">\n",
              "  <thead>\n",
              "    <tr style=\"text-align: right;\">\n",
              "      <th></th>\n",
              "      <th>SALÁRIO</th>\n",
              "      <th>FREQUÊNCIA</th>\n",
              "      <th>PORCENTAGEM (%)</th>\n",
              "    </tr>\n",
              "    <tr>\n",
              "      <th>SALARIO</th>\n",
              "      <th></th>\n",
              "      <th></th>\n",
              "      <th></th>\n",
              "    </tr>\n",
              "  </thead>\n",
              "  <tbody>\n",
              "    <tr>\n",
              "      <th>&gt; 2.000.000</th>\n",
              "      <td>&gt; 2.000.000</td>\n",
              "      <td>781</td>\n",
              "      <td>78.256513</td>\n",
              "    </tr>\n",
              "    <tr>\n",
              "      <th>200.000 - 2.000.000</th>\n",
              "      <td>200.000 - 2.000.000</td>\n",
              "      <td>170</td>\n",
              "      <td>17.034068</td>\n",
              "    </tr>\n",
              "    <tr>\n",
              "      <th>20.000 - 200.000</th>\n",
              "      <td>20.000 - 200.000</td>\n",
              "      <td>33</td>\n",
              "      <td>3.306613</td>\n",
              "    </tr>\n",
              "    <tr>\n",
              "      <th>2.000 - 20.000</th>\n",
              "      <td>2.000 - 20.000</td>\n",
              "      <td>7</td>\n",
              "      <td>0.701403</td>\n",
              "    </tr>\n",
              "    <tr>\n",
              "      <th>&lt; 2.000</th>\n",
              "      <td>&lt; 2.000</td>\n",
              "      <td>7</td>\n",
              "      <td>0.701403</td>\n",
              "    </tr>\n",
              "  </tbody>\n",
              "</table>\n",
              "</div>\n",
              "    <div class=\"colab-df-buttons\">\n",
              "\n",
              "  <div class=\"colab-df-container\">\n",
              "    <button class=\"colab-df-convert\" onclick=\"convertToInteractive('df-3633239a-8394-442f-851d-84b98f1adb54')\"\n",
              "            title=\"Convert this dataframe to an interactive table.\"\n",
              "            style=\"display:none;\">\n",
              "\n",
              "  <svg xmlns=\"http://www.w3.org/2000/svg\" height=\"24px\" viewBox=\"0 -960 960 960\">\n",
              "    <path d=\"M120-120v-720h720v720H120Zm60-500h600v-160H180v160Zm220 220h160v-160H400v160Zm0 220h160v-160H400v160ZM180-400h160v-160H180v160Zm440 0h160v-160H620v160ZM180-180h160v-160H180v160Zm440 0h160v-160H620v160Z\"/>\n",
              "  </svg>\n",
              "    </button>\n",
              "\n",
              "  <style>\n",
              "    .colab-df-container {\n",
              "      display:flex;\n",
              "      gap: 12px;\n",
              "    }\n",
              "\n",
              "    .colab-df-convert {\n",
              "      background-color: #E8F0FE;\n",
              "      border: none;\n",
              "      border-radius: 50%;\n",
              "      cursor: pointer;\n",
              "      display: none;\n",
              "      fill: #1967D2;\n",
              "      height: 32px;\n",
              "      padding: 0 0 0 0;\n",
              "      width: 32px;\n",
              "    }\n",
              "\n",
              "    .colab-df-convert:hover {\n",
              "      background-color: #E2EBFA;\n",
              "      box-shadow: 0px 1px 2px rgba(60, 64, 67, 0.3), 0px 1px 3px 1px rgba(60, 64, 67, 0.15);\n",
              "      fill: #174EA6;\n",
              "    }\n",
              "\n",
              "    .colab-df-buttons div {\n",
              "      margin-bottom: 4px;\n",
              "    }\n",
              "\n",
              "    [theme=dark] .colab-df-convert {\n",
              "      background-color: #3B4455;\n",
              "      fill: #D2E3FC;\n",
              "    }\n",
              "\n",
              "    [theme=dark] .colab-df-convert:hover {\n",
              "      background-color: #434B5C;\n",
              "      box-shadow: 0px 1px 3px 1px rgba(0, 0, 0, 0.15);\n",
              "      filter: drop-shadow(0px 1px 2px rgba(0, 0, 0, 0.3));\n",
              "      fill: #FFFFFF;\n",
              "    }\n",
              "  </style>\n",
              "\n",
              "    <script>\n",
              "      const buttonEl =\n",
              "        document.querySelector('#df-3633239a-8394-442f-851d-84b98f1adb54 button.colab-df-convert');\n",
              "      buttonEl.style.display =\n",
              "        google.colab.kernel.accessAllowed ? 'block' : 'none';\n",
              "\n",
              "      async function convertToInteractive(key) {\n",
              "        const element = document.querySelector('#df-3633239a-8394-442f-851d-84b98f1adb54');\n",
              "        const dataTable =\n",
              "          await google.colab.kernel.invokeFunction('convertToInteractive',\n",
              "                                                    [key], {});\n",
              "        if (!dataTable) return;\n",
              "\n",
              "        const docLinkHtml = 'Like what you see? Visit the ' +\n",
              "          '<a target=\"_blank\" href=https://colab.research.google.com/notebooks/data_table.ipynb>data table notebook</a>'\n",
              "          + ' to learn more about interactive tables.';\n",
              "        element.innerHTML = '';\n",
              "        dataTable['output_type'] = 'display_data';\n",
              "        await google.colab.output.renderOutput(dataTable, element);\n",
              "        const docLink = document.createElement('div');\n",
              "        docLink.innerHTML = docLinkHtml;\n",
              "        element.appendChild(docLink);\n",
              "      }\n",
              "    </script>\n",
              "  </div>\n",
              "\n",
              "\n",
              "<div id=\"df-d38849ee-6fd4-4665-8899-a3e9b10b799a\">\n",
              "  <button class=\"colab-df-quickchart\" onclick=\"quickchart('df-d38849ee-6fd4-4665-8899-a3e9b10b799a')\"\n",
              "            title=\"Suggest charts\"\n",
              "            style=\"display:none;\">\n",
              "\n",
              "<svg xmlns=\"http://www.w3.org/2000/svg\" height=\"24px\"viewBox=\"0 0 24 24\"\n",
              "     width=\"24px\">\n",
              "    <g>\n",
              "        <path d=\"M19 3H5c-1.1 0-2 .9-2 2v14c0 1.1.9 2 2 2h14c1.1 0 2-.9 2-2V5c0-1.1-.9-2-2-2zM9 17H7v-7h2v7zm4 0h-2V7h2v10zm4 0h-2v-4h2v4z\"/>\n",
              "    </g>\n",
              "</svg>\n",
              "  </button>\n",
              "\n",
              "<style>\n",
              "  .colab-df-quickchart {\n",
              "      --bg-color: #E8F0FE;\n",
              "      --fill-color: #1967D2;\n",
              "      --hover-bg-color: #E2EBFA;\n",
              "      --hover-fill-color: #174EA6;\n",
              "      --disabled-fill-color: #AAA;\n",
              "      --disabled-bg-color: #DDD;\n",
              "  }\n",
              "\n",
              "  [theme=dark] .colab-df-quickchart {\n",
              "      --bg-color: #3B4455;\n",
              "      --fill-color: #D2E3FC;\n",
              "      --hover-bg-color: #434B5C;\n",
              "      --hover-fill-color: #FFFFFF;\n",
              "      --disabled-bg-color: #3B4455;\n",
              "      --disabled-fill-color: #666;\n",
              "  }\n",
              "\n",
              "  .colab-df-quickchart {\n",
              "    background-color: var(--bg-color);\n",
              "    border: none;\n",
              "    border-radius: 50%;\n",
              "    cursor: pointer;\n",
              "    display: none;\n",
              "    fill: var(--fill-color);\n",
              "    height: 32px;\n",
              "    padding: 0;\n",
              "    width: 32px;\n",
              "  }\n",
              "\n",
              "  .colab-df-quickchart:hover {\n",
              "    background-color: var(--hover-bg-color);\n",
              "    box-shadow: 0 1px 2px rgba(60, 64, 67, 0.3), 0 1px 3px 1px rgba(60, 64, 67, 0.15);\n",
              "    fill: var(--button-hover-fill-color);\n",
              "  }\n",
              "\n",
              "  .colab-df-quickchart-complete:disabled,\n",
              "  .colab-df-quickchart-complete:disabled:hover {\n",
              "    background-color: var(--disabled-bg-color);\n",
              "    fill: var(--disabled-fill-color);\n",
              "    box-shadow: none;\n",
              "  }\n",
              "\n",
              "  .colab-df-spinner {\n",
              "    border: 2px solid var(--fill-color);\n",
              "    border-color: transparent;\n",
              "    border-bottom-color: var(--fill-color);\n",
              "    animation:\n",
              "      spin 1s steps(1) infinite;\n",
              "  }\n",
              "\n",
              "  @keyframes spin {\n",
              "    0% {\n",
              "      border-color: transparent;\n",
              "      border-bottom-color: var(--fill-color);\n",
              "      border-left-color: var(--fill-color);\n",
              "    }\n",
              "    20% {\n",
              "      border-color: transparent;\n",
              "      border-left-color: var(--fill-color);\n",
              "      border-top-color: var(--fill-color);\n",
              "    }\n",
              "    30% {\n",
              "      border-color: transparent;\n",
              "      border-left-color: var(--fill-color);\n",
              "      border-top-color: var(--fill-color);\n",
              "      border-right-color: var(--fill-color);\n",
              "    }\n",
              "    40% {\n",
              "      border-color: transparent;\n",
              "      border-right-color: var(--fill-color);\n",
              "      border-top-color: var(--fill-color);\n",
              "    }\n",
              "    60% {\n",
              "      border-color: transparent;\n",
              "      border-right-color: var(--fill-color);\n",
              "    }\n",
              "    80% {\n",
              "      border-color: transparent;\n",
              "      border-right-color: var(--fill-color);\n",
              "      border-bottom-color: var(--fill-color);\n",
              "    }\n",
              "    90% {\n",
              "      border-color: transparent;\n",
              "      border-bottom-color: var(--fill-color);\n",
              "    }\n",
              "  }\n",
              "</style>\n",
              "\n",
              "  <script>\n",
              "    async function quickchart(key) {\n",
              "      const quickchartButtonEl =\n",
              "        document.querySelector('#' + key + ' button');\n",
              "      quickchartButtonEl.disabled = true;  // To prevent multiple clicks.\n",
              "      quickchartButtonEl.classList.add('colab-df-spinner');\n",
              "      try {\n",
              "        const charts = await google.colab.kernel.invokeFunction(\n",
              "            'suggestCharts', [key], {});\n",
              "      } catch (error) {\n",
              "        console.error('Error during call to suggestCharts:', error);\n",
              "      }\n",
              "      quickchartButtonEl.classList.remove('colab-df-spinner');\n",
              "      quickchartButtonEl.classList.add('colab-df-quickchart-complete');\n",
              "    }\n",
              "    (() => {\n",
              "      let quickchartButtonEl =\n",
              "        document.querySelector('#df-d38849ee-6fd4-4665-8899-a3e9b10b799a button');\n",
              "      quickchartButtonEl.style.display =\n",
              "        google.colab.kernel.accessAllowed ? 'block' : 'none';\n",
              "    })();\n",
              "  </script>\n",
              "</div>\n",
              "\n",
              "  <div id=\"id_288c86ca-fef5-412d-b903-b3251c82f41b\">\n",
              "    <style>\n",
              "      .colab-df-generate {\n",
              "        background-color: #E8F0FE;\n",
              "        border: none;\n",
              "        border-radius: 50%;\n",
              "        cursor: pointer;\n",
              "        display: none;\n",
              "        fill: #1967D2;\n",
              "        height: 32px;\n",
              "        padding: 0 0 0 0;\n",
              "        width: 32px;\n",
              "      }\n",
              "\n",
              "      .colab-df-generate:hover {\n",
              "        background-color: #E2EBFA;\n",
              "        box-shadow: 0px 1px 2px rgba(60, 64, 67, 0.3), 0px 1px 3px 1px rgba(60, 64, 67, 0.15);\n",
              "        fill: #174EA6;\n",
              "      }\n",
              "\n",
              "      [theme=dark] .colab-df-generate {\n",
              "        background-color: #3B4455;\n",
              "        fill: #D2E3FC;\n",
              "      }\n",
              "\n",
              "      [theme=dark] .colab-df-generate:hover {\n",
              "        background-color: #434B5C;\n",
              "        box-shadow: 0px 1px 3px 1px rgba(0, 0, 0, 0.15);\n",
              "        filter: drop-shadow(0px 1px 2px rgba(0, 0, 0, 0.3));\n",
              "        fill: #FFFFFF;\n",
              "      }\n",
              "    </style>\n",
              "    <button class=\"colab-df-generate\" onclick=\"generateWithVariable('freq_quantitativas')\"\n",
              "            title=\"Generate code using this dataframe.\"\n",
              "            style=\"display:none;\">\n",
              "\n",
              "  <svg xmlns=\"http://www.w3.org/2000/svg\" height=\"24px\"viewBox=\"0 0 24 24\"\n",
              "       width=\"24px\">\n",
              "    <path d=\"M7,19H8.4L18.45,9,17,7.55,7,17.6ZM5,21V16.75L18.45,3.32a2,2,0,0,1,2.83,0l1.4,1.43a1.91,1.91,0,0,1,.58,1.4,1.91,1.91,0,0,1-.58,1.4L9.25,21ZM18.45,9,17,7.55Zm-12,3A5.31,5.31,0,0,0,4.9,8.1,5.31,5.31,0,0,0,1,6.5,5.31,5.31,0,0,0,4.9,4.9,5.31,5.31,0,0,0,6.5,1,5.31,5.31,0,0,0,8.1,4.9,5.31,5.31,0,0,0,12,6.5,5.46,5.46,0,0,0,6.5,12Z\"/>\n",
              "  </svg>\n",
              "    </button>\n",
              "    <script>\n",
              "      (() => {\n",
              "      const buttonEl =\n",
              "        document.querySelector('#id_288c86ca-fef5-412d-b903-b3251c82f41b button.colab-df-generate');\n",
              "      buttonEl.style.display =\n",
              "        google.colab.kernel.accessAllowed ? 'block' : 'none';\n",
              "\n",
              "      buttonEl.onclick = () => {\n",
              "        google.colab.notebook.generateWithVariable('freq_quantitativas');\n",
              "      }\n",
              "      })();\n",
              "    </script>\n",
              "  </div>\n",
              "\n",
              "    </div>\n",
              "  </div>\n"
            ],
            "application/vnd.google.colaboratory.intrinsic+json": {
              "type": "dataframe",
              "variable_name": "freq_quantitativas",
              "summary": "{\n  \"name\": \"freq_quantitativas\",\n  \"rows\": 5,\n  \"fields\": [\n    {\n      \"column\": \"SALARIO\",\n      \"properties\": {\n        \"dtype\": \"category\",\n        \"num_unique_values\": 5,\n        \"samples\": [\n          \"200.000 - 2.000.000\",\n          \"< 2.000\",\n          \"20.000 - 200.000\"\n        ],\n        \"semantic_type\": \"\",\n        \"description\": \"\"\n      }\n    },\n    {\n      \"column\": \"SAL\\u00c1RIO\",\n      \"properties\": {\n        \"dtype\": \"category\",\n        \"num_unique_values\": 5,\n        \"samples\": [\n          \"200.000 - 2.000.000\",\n          \"< 2.000\",\n          \"20.000 - 200.000\"\n        ],\n        \"semantic_type\": \"\",\n        \"description\": \"\"\n      }\n    },\n    {\n      \"column\": \"FREQU\\u00caNCIA\",\n      \"properties\": {\n        \"dtype\": \"number\",\n        \"std\": 331,\n        \"min\": 7,\n        \"max\": 781,\n        \"num_unique_values\": 4,\n        \"samples\": [\n          170,\n          7,\n          781\n        ],\n        \"semantic_type\": \"\",\n        \"description\": \"\"\n      }\n    },\n    {\n      \"column\": \"PORCENTAGEM (%)\",\n      \"properties\": {\n        \"dtype\": \"number\",\n        \"std\": 33.264691983725896,\n        \"min\": 0.7014028056112225,\n        \"max\": 78.2565130260521,\n        \"num_unique_values\": 4,\n        \"samples\": [\n          17.034068136272545,\n          0.7014028056112225,\n          78.2565130260521\n        ],\n        \"semantic_type\": \"\",\n        \"description\": \"\"\n      }\n    }\n  ]\n}"
            }
          },
          "metadata": {},
          "execution_count": 65
        }
      ],
      "source": [
        "freq_quantitativas"
      ]
    },
    {
      "cell_type": "code",
      "execution_count": 66,
      "id": "249e9e83",
      "metadata": {
        "id": "249e9e83"
      },
      "outputs": [],
      "source": [
        "#Salvando arquivo em xlsx, particionado em abas dentro da planilha\n",
        "\n",
        "arquivo = 'dados_funcionarios.xlsx'\n",
        "\n",
        "with pd.ExcelWriter(arquivo, engine='openpyxl') as writer:\n",
        "\n",
        "    banco_nordeste.to_excel(writer, sheet_name='Dados do Banco - Nordeste', index=False)\n",
        "    freq_qualitativas.to_excel(writer, sheet_name='Dados Qualitativos - Sexo', index=False)\n",
        "    freq_quantitativas.to_excel(writer, sheet_name='Dados Quantitativos - Salario', index=False)\n"
      ]
    },
    {
      "cell_type": "code",
      "execution_count": 66,
      "id": "6c0d7cff",
      "metadata": {
        "id": "6c0d7cff"
      },
      "outputs": [],
      "source": []
    },
    {
      "cell_type": "code",
      "execution_count": 66,
      "id": "dbcee9e5",
      "metadata": {
        "id": "dbcee9e5"
      },
      "outputs": [],
      "source": []
    },
    {
      "cell_type": "code",
      "execution_count": 66,
      "id": "356d571f",
      "metadata": {
        "id": "356d571f"
      },
      "outputs": [],
      "source": []
    },
    {
      "cell_type": "code",
      "execution_count": 66,
      "id": "ed5994f1",
      "metadata": {
        "id": "ed5994f1"
      },
      "outputs": [],
      "source": []
    },
    {
      "cell_type": "code",
      "execution_count": 66,
      "id": "8a4d65fa",
      "metadata": {
        "id": "8a4d65fa"
      },
      "outputs": [],
      "source": []
    }
  ],
  "metadata": {
    "kernelspec": {
      "display_name": "Python 3 (ipykernel)",
      "language": "python",
      "name": "python3"
    },
    "language_info": {
      "codemirror_mode": {
        "name": "ipython",
        "version": 3
      },
      "file_extension": ".py",
      "mimetype": "text/x-python",
      "name": "python",
      "nbconvert_exporter": "python",
      "pygments_lexer": "ipython3",
      "version": "3.9.13"
    },
    "colab": {
      "provenance": [],
      "include_colab_link": true
    }
  },
  "nbformat": 4,
  "nbformat_minor": 5
}